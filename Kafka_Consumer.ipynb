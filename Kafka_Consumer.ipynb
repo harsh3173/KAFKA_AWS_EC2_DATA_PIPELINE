{
 "cells": [
  {
   "cell_type": "code",
   "execution_count": 11,
   "id": "990206be-a0c8-4a36-9ba9-6d7be2ea80d8",
   "metadata": {},
   "outputs": [],
   "source": [
    "import json\n",
    "import pandas as pd\n",
    "from kafka import KafkaConsumer\n",
    "from time import sleep\n",
    "from json import dumps\n",
    "from pyspark.sql import SparkSession\n",
    "from pyspark.sql.functions import from_json, col\n",
    "from pyspark.sql.types import StructType, StructField, StringType, DoubleType\n",
    "from pyspark.sql.functions import col, from_json, explode"
   ]
  },
  {
   "cell_type": "code",
   "execution_count": 2,
   "id": "dea3fa56-2c7e-475d-8615-b96704138396",
   "metadata": {},
   "outputs": [],
   "source": [
    "consumer = KafkaConsumer(\n",
    "    'test_kafka_aws',  # Kafka topic\n",
    "    bootstrap_servers=['IP:9092'],  # List of brokers passed as a list\n",
    "    value_deserializer=lambda x: json.loads(x.decode('utf-8')),  # Deserializer for JSON values\n",
    ")"
   ]
  },
  {
   "cell_type": "code",
   "execution_count": null,
   "id": "9159f46a-0be7-40a3-ab5f-d409a2985b32",
   "metadata": {},
   "outputs": [],
   "source": [
    "# Example loop to consume messages\n",
    "for message in consumer:\n",
    "    print(message)\n",
    "\n",
    "# Properly close the consumer when done"
   ]
  },
  {
   "cell_type": "code",
   "execution_count": 3,
   "id": "29acca2d-fc42-4cf9-8695-0a4a9e5292fe",
   "metadata": {},
   "outputs": [
    {
     "name": "stderr",
     "output_type": "stream",
     "text": [
      "24/09/01 00:28:43 WARN Utils: Your hostname, Harshs-MacBook-Pro.local resolves to a loopback address: 127.0.0.1; using 10.183.81.8 instead (on interface en0)\n",
      "24/09/01 00:28:43 WARN Utils: Set SPARK_LOCAL_IP if you need to bind to another address\n",
      "Ivy Default Cache set to: /Users/harshwadhawe/.ivy2/cache\n",
      "The jars for the packages stored in: /Users/harshwadhawe/.ivy2/jars\n",
      "org.apache.spark#spark-sql-kafka-0-10_2.12 added as a dependency\n",
      ":: resolving dependencies :: org.apache.spark#spark-submit-parent-ce8a51e4-6f9f-45ee-ad6f-fea2eedb1469;1.0\n",
      "\tconfs: [default]\n",
      "\tfound org.apache.spark#spark-sql-kafka-0-10_2.12;3.5.0 in central\n"
     ]
    },
    {
     "name": "stdout",
     "output_type": "stream",
     "text": [
      ":: loading settings :: url = jar:file:/opt/homebrew/lib/python3.11/site-packages/pyspark/jars/ivy-2.5.1.jar!/org/apache/ivy/core/settings/ivysettings.xml\n"
     ]
    },
    {
     "name": "stderr",
     "output_type": "stream",
     "text": [
      "\tfound org.apache.spark#spark-token-provider-kafka-0-10_2.12;3.5.0 in central\n",
      "\tfound org.apache.kafka#kafka-clients;3.4.1 in central\n",
      "\tfound org.lz4#lz4-java;1.8.0 in central\n",
      "\tfound org.xerial.snappy#snappy-java;1.1.10.3 in central\n",
      "\tfound org.slf4j#slf4j-api;2.0.7 in central\n",
      "\tfound org.apache.hadoop#hadoop-client-runtime;3.3.4 in central\n",
      "\tfound org.apache.hadoop#hadoop-client-api;3.3.4 in central\n",
      "\tfound commons-logging#commons-logging;1.1.3 in central\n",
      "\tfound com.google.code.findbugs#jsr305;3.0.0 in central\n",
      "\tfound org.apache.commons#commons-pool2;2.11.1 in central\n",
      ":: resolution report :: resolve 190ms :: artifacts dl 6ms\n",
      "\t:: modules in use:\n",
      "\tcom.google.code.findbugs#jsr305;3.0.0 from central in [default]\n",
      "\tcommons-logging#commons-logging;1.1.3 from central in [default]\n",
      "\torg.apache.commons#commons-pool2;2.11.1 from central in [default]\n",
      "\torg.apache.hadoop#hadoop-client-api;3.3.4 from central in [default]\n",
      "\torg.apache.hadoop#hadoop-client-runtime;3.3.4 from central in [default]\n",
      "\torg.apache.kafka#kafka-clients;3.4.1 from central in [default]\n",
      "\torg.apache.spark#spark-sql-kafka-0-10_2.12;3.5.0 from central in [default]\n",
      "\torg.apache.spark#spark-token-provider-kafka-0-10_2.12;3.5.0 from central in [default]\n",
      "\torg.lz4#lz4-java;1.8.0 from central in [default]\n",
      "\torg.slf4j#slf4j-api;2.0.7 from central in [default]\n",
      "\torg.xerial.snappy#snappy-java;1.1.10.3 from central in [default]\n",
      "\t---------------------------------------------------------------------\n",
      "\t|                  |            modules            ||   artifacts   |\n",
      "\t|       conf       | number| search|dwnlded|evicted|| number|dwnlded|\n",
      "\t---------------------------------------------------------------------\n",
      "\t|      default     |   11  |   0   |   0   |   0   ||   11  |   0   |\n",
      "\t---------------------------------------------------------------------\n",
      ":: retrieving :: org.apache.spark#spark-submit-parent-ce8a51e4-6f9f-45ee-ad6f-fea2eedb1469\n",
      "\tconfs: [default]\n",
      "\t0 artifacts copied, 11 already retrieved (0kB/4ms)\n",
      "24/09/01 00:28:43 WARN NativeCodeLoader: Unable to load native-hadoop library for your platform... using builtin-java classes where applicable\n",
      "Setting default log level to \"WARN\".\n",
      "To adjust logging level use sc.setLogLevel(newLevel). For SparkR, use setLogLevel(newLevel).\n",
      "24/09/01 00:28:44 WARN Utils: Service 'SparkUI' could not bind on port 4040. Attempting port 4041.\n"
     ]
    }
   ],
   "source": [
    "spark = SparkSession.builder \\\n",
    "    .appName(\"Kafka2Parquet\") \\\n",
    "    .config(\"spark.jars.packages\", \"org.apache.spark:spark-sql-kafka-0-10_2.12:3.5.0\") \\\n",
    "    .getOrCreate()"
   ]
  },
  {
   "cell_type": "code",
   "execution_count": 12,
   "id": "5a6f4e32-b342-46c3-b0d6-05be72f9b9fd",
   "metadata": {},
   "outputs": [],
   "source": [
    "# Define the schema corresponding to the JSON format\n",
    "schema = StructType([\n",
    "    StructField(\"symbol\", StringType(), True),\n",
    "    StructField(\"name\", StringType(), True),\n",
    "    StructField(\"change\", DoubleType(), True),\n",
    "    StructField(\"price\", DoubleType(), True),\n",
    "    StructField(\"changesPercentage\", DoubleType(), True)\n",
    "])"
   ]
  },
  {
   "cell_type": "code",
   "execution_count": 13,
   "id": "fbfcf0b8-3b98-43ae-aa69-0d64180dcb8d",
   "metadata": {},
   "outputs": [],
   "source": [
    "# Read data from Kafka\n",
    "df_kafka = spark \\\n",
    "    .readStream \\\n",
    "    .format(\"kafka\") \\\n",
    "    .option(\"kafka.bootstrap.servers\", \"IP:9092\") \\\n",
    "    .option(\"subscribe\", \"test_kafka_aws\") \\\n",
    "    .load()"
   ]
  },
  {
   "cell_type": "code",
   "execution_count": 14,
   "id": "7a6e8c25-1af9-4c9c-8d8c-62acb55c5cf6",
   "metadata": {},
   "outputs": [],
   "source": [
    "# Assuming the JSON data is in the \"value\" field of the Kafka message\n",
    "df_parsed = df_kafka.selectExpr(\"CAST(value AS STRING) as json_string\")"
   ]
  },
  {
   "cell_type": "code",
   "execution_count": 15,
   "id": "57f85aa9-9c69-443f-a322-7efef4a4fed4",
   "metadata": {},
   "outputs": [],
   "source": [
    "# Apply the schema to the JSON data, considering it as an array\n",
    "df_json = df_parsed.select(explode(from_json(\"json_string\", \"array<struct<symbol:string,name:string,change:double,price:double,changesPercentage:double>>\")).alias(\"data\"))\n",
    "\n",
    "# Flatten the structure to make it easier to work with\n",
    "df_flat = df_json.select(\n",
    "    \"data.symbol\",\n",
    "    \"data.name\",\n",
    "    \"data.change\",\n",
    "    \"data.price\",\n",
    "    \"data.changesPercentage\"\n",
    ")"
   ]
  },
  {
   "cell_type": "code",
   "execution_count": 16,
   "id": "5fa0ade1-8b84-4f8e-9018-0764cc64d17a",
   "metadata": {},
   "outputs": [
    {
     "name": "stderr",
     "output_type": "stream",
     "text": [
      "24/09/01 00:29:45 WARN ResolveWriteToStream: Temporary checkpoint location created which is deleted normally when the query didn't fail: /private/var/folders/kf/8rzd89fx61l2r6vlmkhxqpw80000gn/T/temporary-9700d16a-822d-4984-8597-fe9232846128. If it's required to delete it under any circumstances, please set spark.sql.streaming.forceDeleteTempCheckpointLocation to true. Important to know deleting temp checkpoint folder is best effort.\n",
      "24/09/01 00:29:45 WARN ResolveWriteToStream: spark.sql.adaptive.enabled is not supported in streaming DataFrames/Datasets and will be disabled.\n",
      "24/09/01 00:29:45 WARN AdminClientConfig: These configurations '[key.deserializer, value.deserializer, enable.auto.commit, max.poll.records, auto.offset.reset]' were supplied but are not used yet.\n"
     ]
    },
    {
     "name": "stdout",
     "output_type": "stream",
     "text": [
      "-------------------------------------------\n",
      "Batch: 0\n",
      "-------------------------------------------\n",
      "+------+----+------+-----+-----------------+\n",
      "|symbol|name|change|price|changesPercentage|\n",
      "+------+----+------+-----+-----------------+\n",
      "+------+----+------+-----+-----------------+\n",
      "\n"
     ]
    },
    {
     "name": "stderr",
     "output_type": "stream",
     "text": [
      "                                                                                \r"
     ]
    },
    {
     "name": "stdout",
     "output_type": "stream",
     "text": [
      "-------------------------------------------\n",
      "Batch: 1\n",
      "-------------------------------------------\n",
      "+------+--------------------+------+------+-----------------+\n",
      "|symbol|                name|change| price|changesPercentage|\n",
      "+------+--------------------+------+------+-----------------+\n",
      "|   WTO|       UTime Limited|-0.015|0.0756|         -16.5563|\n",
      "|  NVDA|  NVIDIA Corporation|  1.78|119.37|           1.5137|\n",
      "|  FCUV|Focus Universal Inc.|0.0787|0.2689|          41.3775|\n",
      "|  BNRG|Brenmiller Energy...| 0.877|  1.55|          130.312|\n",
      "|  INTC|   Intel Corporation|  1.91| 22.04|           9.4883|\n",
      "|  SQQQ|ProShares UltraPr...| -0.27|   8.2|          -3.1877|\n",
      "|    NU|    Nu Holdings Ltd.|  0.74| 14.97|           5.2003|\n",
      "|  MAXN|Maxeon Solar Tech...|0.0038|0.1081|           3.6433|\n",
      "|  SOXL|Direxion Daily Se...|   2.6| 38.79|           7.1843|\n",
      "|  ATPC|Agape ATP Corpora...| 0.958|  2.55|          60.1759|\n",
      "|   NIO|            NIO Inc.|   0.1|  4.04|           2.5381|\n",
      "|  TSLA|         Tesla, Inc.|  7.83|214.11|           3.7958|\n",
      "|  HOLO|MicroCloud Hologr...|0.0646|0.4148|          18.4466|\n",
      "|  SOXS|Direxion Daily Se...| -1.76| 22.07|          -7.3856|\n",
      "|   SPY|SPDR S&P 500 ETF ...|  5.33|563.68|           0.9546|\n",
      "|    XP|             XP Inc.| -0.16| 18.41|          -0.8616|\n",
      "|  AAPL|          Apple Inc.| -0.79| 229.0|          -0.3438|\n",
      "|  MULN|Mullen Automotive...|-0.024| 0.215|         -10.0418|\n",
      "|  LUNR|Intuitive Machine...|  0.15|  4.97|            3.112|\n",
      "|   EWZ|iShares MSCI Braz...|  0.01| 29.87|           0.0335|\n",
      "+------+--------------------+------+------+-----------------+\n",
      "only showing top 20 rows\n",
      "\n"
     ]
    },
    {
     "name": "stderr",
     "output_type": "stream",
     "text": [
      "                                                                                \r"
     ]
    },
    {
     "name": "stdout",
     "output_type": "stream",
     "text": [
      "-------------------------------------------\n",
      "Batch: 2\n",
      "-------------------------------------------\n",
      "+------+--------------------+------+------+-----------------+\n",
      "|symbol|                name|change| price|changesPercentage|\n",
      "+------+--------------------+------+------+-----------------+\n",
      "|   WTO|       UTime Limited|-0.015|0.0756|         -16.5563|\n",
      "|  NVDA|  NVIDIA Corporation|  1.78|119.37|           1.5137|\n",
      "|  FCUV|Focus Universal Inc.|0.0787|0.2689|          41.3775|\n",
      "|  BNRG|Brenmiller Energy...| 0.877|  1.55|          130.312|\n",
      "|  INTC|   Intel Corporation|  1.91| 22.04|           9.4883|\n",
      "|  SQQQ|ProShares UltraPr...| -0.27|   8.2|          -3.1877|\n",
      "|    NU|    Nu Holdings Ltd.|  0.74| 14.97|           5.2003|\n",
      "|  MAXN|Maxeon Solar Tech...|0.0038|0.1081|           3.6433|\n",
      "|  SOXL|Direxion Daily Se...|   2.6| 38.79|           7.1843|\n",
      "|  ATPC|Agape ATP Corpora...| 0.958|  2.55|          60.1759|\n",
      "|   NIO|            NIO Inc.|   0.1|  4.04|           2.5381|\n",
      "|  TSLA|         Tesla, Inc.|  7.83|214.11|           3.7958|\n",
      "|  HOLO|MicroCloud Hologr...|0.0646|0.4148|          18.4466|\n",
      "|  SOXS|Direxion Daily Se...| -1.76| 22.07|          -7.3856|\n",
      "|   SPY|SPDR S&P 500 ETF ...|  5.33|563.68|           0.9546|\n",
      "|    XP|             XP Inc.| -0.16| 18.41|          -0.8616|\n",
      "|  AAPL|          Apple Inc.| -0.79| 229.0|          -0.3438|\n",
      "|  MULN|Mullen Automotive...|-0.024| 0.215|         -10.0418|\n",
      "|  LUNR|Intuitive Machine...|  0.15|  4.97|            3.112|\n",
      "|   EWZ|iShares MSCI Braz...|  0.01| 29.87|           0.0335|\n",
      "+------+--------------------+------+------+-----------------+\n",
      "only showing top 20 rows\n",
      "\n"
     ]
    },
    {
     "name": "stderr",
     "output_type": "stream",
     "text": [
      "                                                                                \r"
     ]
    },
    {
     "name": "stdout",
     "output_type": "stream",
     "text": [
      "-------------------------------------------\n",
      "Batch: 3\n",
      "-------------------------------------------\n",
      "+------+--------------------+------+------+-----------------+\n",
      "|symbol|                name|change| price|changesPercentage|\n",
      "+------+--------------------+------+------+-----------------+\n",
      "|   WTO|       UTime Limited|-0.015|0.0756|         -16.5563|\n",
      "|  NVDA|  NVIDIA Corporation|  1.78|119.37|           1.5137|\n",
      "|  FCUV|Focus Universal Inc.|0.0787|0.2689|          41.3775|\n",
      "|  BNRG|Brenmiller Energy...| 0.877|  1.55|          130.312|\n",
      "|  INTC|   Intel Corporation|  1.91| 22.04|           9.4883|\n",
      "|  SQQQ|ProShares UltraPr...| -0.27|   8.2|          -3.1877|\n",
      "|    NU|    Nu Holdings Ltd.|  0.74| 14.97|           5.2003|\n",
      "|  MAXN|Maxeon Solar Tech...|0.0038|0.1081|           3.6433|\n",
      "|  SOXL|Direxion Daily Se...|   2.6| 38.79|           7.1843|\n",
      "|  ATPC|Agape ATP Corpora...| 0.958|  2.55|          60.1759|\n",
      "|   NIO|            NIO Inc.|   0.1|  4.04|           2.5381|\n",
      "|  TSLA|         Tesla, Inc.|  7.83|214.11|           3.7958|\n",
      "|  HOLO|MicroCloud Hologr...|0.0646|0.4148|          18.4466|\n",
      "|  SOXS|Direxion Daily Se...| -1.76| 22.07|          -7.3856|\n",
      "|   SPY|SPDR S&P 500 ETF ...|  5.33|563.68|           0.9546|\n",
      "|    XP|             XP Inc.| -0.16| 18.41|          -0.8616|\n",
      "|  AAPL|          Apple Inc.| -0.79| 229.0|          -0.3438|\n",
      "|  MULN|Mullen Automotive...|-0.024| 0.215|         -10.0418|\n",
      "|  LUNR|Intuitive Machine...|  0.15|  4.97|            3.112|\n",
      "|   EWZ|iShares MSCI Braz...|  0.01| 29.87|           0.0335|\n",
      "+------+--------------------+------+------+-----------------+\n",
      "only showing top 20 rows\n",
      "\n"
     ]
    },
    {
     "name": "stderr",
     "output_type": "stream",
     "text": [
      "                                                                                \r"
     ]
    },
    {
     "name": "stdout",
     "output_type": "stream",
     "text": [
      "-------------------------------------------\n",
      "Batch: 4\n",
      "-------------------------------------------\n",
      "+------+--------------------+------+------+-----------------+\n",
      "|symbol|                name|change| price|changesPercentage|\n",
      "+------+--------------------+------+------+-----------------+\n",
      "|   WTO|       UTime Limited|-0.015|0.0756|         -16.5563|\n",
      "|  NVDA|  NVIDIA Corporation|  1.78|119.37|           1.5137|\n",
      "|  FCUV|Focus Universal Inc.|0.0787|0.2689|          41.3775|\n",
      "|  BNRG|Brenmiller Energy...| 0.877|  1.55|          130.312|\n",
      "|  INTC|   Intel Corporation|  1.91| 22.04|           9.4883|\n",
      "|  SQQQ|ProShares UltraPr...| -0.27|   8.2|          -3.1877|\n",
      "|    NU|    Nu Holdings Ltd.|  0.74| 14.97|           5.2003|\n",
      "|  MAXN|Maxeon Solar Tech...|0.0038|0.1081|           3.6433|\n",
      "|  SOXL|Direxion Daily Se...|   2.6| 38.79|           7.1843|\n",
      "|  ATPC|Agape ATP Corpora...| 0.958|  2.55|          60.1759|\n",
      "|   NIO|            NIO Inc.|   0.1|  4.04|           2.5381|\n",
      "|  TSLA|         Tesla, Inc.|  7.83|214.11|           3.7958|\n",
      "|  HOLO|MicroCloud Hologr...|0.0646|0.4148|          18.4466|\n",
      "|  SOXS|Direxion Daily Se...| -1.76| 22.07|          -7.3856|\n",
      "|   SPY|SPDR S&P 500 ETF ...|  5.33|563.68|           0.9546|\n",
      "|    XP|             XP Inc.| -0.16| 18.41|          -0.8616|\n",
      "|  AAPL|          Apple Inc.| -0.79| 229.0|          -0.3438|\n",
      "|  MULN|Mullen Automotive...|-0.024| 0.215|         -10.0418|\n",
      "|  LUNR|Intuitive Machine...|  0.15|  4.97|            3.112|\n",
      "|   EWZ|iShares MSCI Braz...|  0.01| 29.87|           0.0335|\n",
      "+------+--------------------+------+------+-----------------+\n",
      "only showing top 20 rows\n",
      "\n"
     ]
    },
    {
     "name": "stderr",
     "output_type": "stream",
     "text": [
      "                                                                                \r"
     ]
    },
    {
     "name": "stdout",
     "output_type": "stream",
     "text": [
      "-------------------------------------------\n",
      "Batch: 5\n",
      "-------------------------------------------\n",
      "+------+--------------------+------+------+-----------------+\n",
      "|symbol|                name|change| price|changesPercentage|\n",
      "+------+--------------------+------+------+-----------------+\n",
      "|   WTO|       UTime Limited|-0.015|0.0756|         -16.5563|\n",
      "|  NVDA|  NVIDIA Corporation|  1.78|119.37|           1.5137|\n",
      "|  FCUV|Focus Universal Inc.|0.0787|0.2689|          41.3775|\n",
      "|  BNRG|Brenmiller Energy...| 0.877|  1.55|          130.312|\n",
      "|  INTC|   Intel Corporation|  1.91| 22.04|           9.4883|\n",
      "|  SQQQ|ProShares UltraPr...| -0.27|   8.2|          -3.1877|\n",
      "|    NU|    Nu Holdings Ltd.|  0.74| 14.97|           5.2003|\n",
      "|  MAXN|Maxeon Solar Tech...|0.0038|0.1081|           3.6433|\n",
      "|  SOXL|Direxion Daily Se...|   2.6| 38.79|           7.1843|\n",
      "|  ATPC|Agape ATP Corpora...| 0.958|  2.55|          60.1759|\n",
      "|   NIO|            NIO Inc.|   0.1|  4.04|           2.5381|\n",
      "|  TSLA|         Tesla, Inc.|  7.83|214.11|           3.7958|\n",
      "|  HOLO|MicroCloud Hologr...|0.0646|0.4148|          18.4466|\n",
      "|  SOXS|Direxion Daily Se...| -1.76| 22.07|          -7.3856|\n",
      "|   SPY|SPDR S&P 500 ETF ...|  5.33|563.68|           0.9546|\n",
      "|    XP|             XP Inc.| -0.16| 18.41|          -0.8616|\n",
      "|  AAPL|          Apple Inc.| -0.79| 229.0|          -0.3438|\n",
      "|  MULN|Mullen Automotive...|-0.024| 0.215|         -10.0418|\n",
      "|  LUNR|Intuitive Machine...|  0.15|  4.97|            3.112|\n",
      "|   EWZ|iShares MSCI Braz...|  0.01| 29.87|           0.0335|\n",
      "+------+--------------------+------+------+-----------------+\n",
      "only showing top 20 rows\n",
      "\n"
     ]
    },
    {
     "name": "stderr",
     "output_type": "stream",
     "text": [
      "                                                                                \r"
     ]
    },
    {
     "name": "stdout",
     "output_type": "stream",
     "text": [
      "-------------------------------------------\n",
      "Batch: 6\n",
      "-------------------------------------------\n",
      "+------+--------------------+------+------+-----------------+\n",
      "|symbol|                name|change| price|changesPercentage|\n",
      "+------+--------------------+------+------+-----------------+\n",
      "|   WTO|       UTime Limited|-0.015|0.0756|         -16.5563|\n",
      "|  NVDA|  NVIDIA Corporation|  1.78|119.37|           1.5137|\n",
      "|  FCUV|Focus Universal Inc.|0.0787|0.2689|          41.3775|\n",
      "|  BNRG|Brenmiller Energy...| 0.877|  1.55|          130.312|\n",
      "|  INTC|   Intel Corporation|  1.91| 22.04|           9.4883|\n",
      "|  SQQQ|ProShares UltraPr...| -0.27|   8.2|          -3.1877|\n",
      "|    NU|    Nu Holdings Ltd.|  0.74| 14.97|           5.2003|\n",
      "|  MAXN|Maxeon Solar Tech...|0.0038|0.1081|           3.6433|\n",
      "|  SOXL|Direxion Daily Se...|   2.6| 38.79|           7.1843|\n",
      "|  ATPC|Agape ATP Corpora...| 0.958|  2.55|          60.1759|\n",
      "|   NIO|            NIO Inc.|   0.1|  4.04|           2.5381|\n",
      "|  TSLA|         Tesla, Inc.|  7.83|214.11|           3.7958|\n",
      "|  HOLO|MicroCloud Hologr...|0.0646|0.4148|          18.4466|\n",
      "|  SOXS|Direxion Daily Se...| -1.76| 22.07|          -7.3856|\n",
      "|   SPY|SPDR S&P 500 ETF ...|  5.33|563.68|           0.9546|\n",
      "|    XP|             XP Inc.| -0.16| 18.41|          -0.8616|\n",
      "|  AAPL|          Apple Inc.| -0.79| 229.0|          -0.3438|\n",
      "|  MULN|Mullen Automotive...|-0.024| 0.215|         -10.0418|\n",
      "|  LUNR|Intuitive Machine...|  0.15|  4.97|            3.112|\n",
      "|   EWZ|iShares MSCI Braz...|  0.01| 29.87|           0.0335|\n",
      "+------+--------------------+------+------+-----------------+\n",
      "only showing top 20 rows\n",
      "\n",
      "-------------------------------------------\n",
      "Batch: 7\n",
      "-------------------------------------------\n",
      "+------+--------------------+------+------+-----------------+\n",
      "|symbol|                name|change| price|changesPercentage|\n",
      "+------+--------------------+------+------+-----------------+\n",
      "|   WTO|       UTime Limited|-0.015|0.0756|         -16.5563|\n",
      "|  NVDA|  NVIDIA Corporation|  1.78|119.37|           1.5137|\n",
      "|  FCUV|Focus Universal Inc.|0.0787|0.2689|          41.3775|\n",
      "|  BNRG|Brenmiller Energy...| 0.877|  1.55|          130.312|\n",
      "|  INTC|   Intel Corporation|  1.91| 22.04|           9.4883|\n",
      "|  SQQQ|ProShares UltraPr...| -0.27|   8.2|          -3.1877|\n",
      "|    NU|    Nu Holdings Ltd.|  0.74| 14.97|           5.2003|\n",
      "|  MAXN|Maxeon Solar Tech...|0.0038|0.1081|           3.6433|\n",
      "|  SOXL|Direxion Daily Se...|   2.6| 38.79|           7.1843|\n",
      "|  ATPC|Agape ATP Corpora...| 0.958|  2.55|          60.1759|\n",
      "|   NIO|            NIO Inc.|   0.1|  4.04|           2.5381|\n",
      "|  TSLA|         Tesla, Inc.|  7.83|214.11|           3.7958|\n",
      "|  HOLO|MicroCloud Hologr...|0.0646|0.4148|          18.4466|\n",
      "|  SOXS|Direxion Daily Se...| -1.76| 22.07|          -7.3856|\n",
      "|   SPY|SPDR S&P 500 ETF ...|  5.33|563.68|           0.9546|\n",
      "|    XP|             XP Inc.| -0.16| 18.41|          -0.8616|\n",
      "|  AAPL|          Apple Inc.| -0.79| 229.0|          -0.3438|\n",
      "|  MULN|Mullen Automotive...|-0.024| 0.215|         -10.0418|\n",
      "|  LUNR|Intuitive Machine...|  0.15|  4.97|            3.112|\n",
      "|   EWZ|iShares MSCI Braz...|  0.01| 29.87|           0.0335|\n",
      "+------+--------------------+------+------+-----------------+\n",
      "only showing top 20 rows\n",
      "\n",
      "-------------------------------------------\n",
      "Batch: 8\n",
      "-------------------------------------------\n",
      "+------+--------------------+------+------+-----------------+\n",
      "|symbol|                name|change| price|changesPercentage|\n",
      "+------+--------------------+------+------+-----------------+\n",
      "|   WTO|       UTime Limited|-0.015|0.0756|         -16.5563|\n",
      "|  NVDA|  NVIDIA Corporation|  1.78|119.37|           1.5137|\n",
      "|  FCUV|Focus Universal Inc.|0.0787|0.2689|          41.3775|\n",
      "|  BNRG|Brenmiller Energy...| 0.877|  1.55|          130.312|\n",
      "|  INTC|   Intel Corporation|  1.91| 22.04|           9.4883|\n",
      "|  SQQQ|ProShares UltraPr...| -0.27|   8.2|          -3.1877|\n",
      "|    NU|    Nu Holdings Ltd.|  0.74| 14.97|           5.2003|\n",
      "|  MAXN|Maxeon Solar Tech...|0.0038|0.1081|           3.6433|\n",
      "|  SOXL|Direxion Daily Se...|   2.6| 38.79|           7.1843|\n",
      "|  ATPC|Agape ATP Corpora...| 0.958|  2.55|          60.1759|\n",
      "|   NIO|            NIO Inc.|   0.1|  4.04|           2.5381|\n",
      "|  TSLA|         Tesla, Inc.|  7.83|214.11|           3.7958|\n",
      "|  HOLO|MicroCloud Hologr...|0.0646|0.4148|          18.4466|\n",
      "|  SOXS|Direxion Daily Se...| -1.76| 22.07|          -7.3856|\n",
      "|   SPY|SPDR S&P 500 ETF ...|  5.33|563.68|           0.9546|\n",
      "|    XP|             XP Inc.| -0.16| 18.41|          -0.8616|\n",
      "|  AAPL|          Apple Inc.| -0.79| 229.0|          -0.3438|\n",
      "|  MULN|Mullen Automotive...|-0.024| 0.215|         -10.0418|\n",
      "|  LUNR|Intuitive Machine...|  0.15|  4.97|            3.112|\n",
      "|   EWZ|iShares MSCI Braz...|  0.01| 29.87|           0.0335|\n",
      "+------+--------------------+------+------+-----------------+\n",
      "only showing top 20 rows\n",
      "\n"
     ]
    },
    {
     "name": "stderr",
     "output_type": "stream",
     "text": [
      "                                                                                \r"
     ]
    },
    {
     "name": "stdout",
     "output_type": "stream",
     "text": [
      "-------------------------------------------\n",
      "Batch: 9\n",
      "-------------------------------------------\n",
      "+------+--------------------+------+------+-----------------+\n",
      "|symbol|                name|change| price|changesPercentage|\n",
      "+------+--------------------+------+------+-----------------+\n",
      "|   WTO|       UTime Limited|-0.015|0.0756|         -16.5563|\n",
      "|  NVDA|  NVIDIA Corporation|  1.78|119.37|           1.5137|\n",
      "|  FCUV|Focus Universal Inc.|0.0787|0.2689|          41.3775|\n",
      "|  BNRG|Brenmiller Energy...| 0.877|  1.55|          130.312|\n",
      "|  INTC|   Intel Corporation|  1.91| 22.04|           9.4883|\n",
      "|  SQQQ|ProShares UltraPr...| -0.27|   8.2|          -3.1877|\n",
      "|    NU|    Nu Holdings Ltd.|  0.74| 14.97|           5.2003|\n",
      "|  MAXN|Maxeon Solar Tech...|0.0038|0.1081|           3.6433|\n",
      "|  SOXL|Direxion Daily Se...|   2.6| 38.79|           7.1843|\n",
      "|  ATPC|Agape ATP Corpora...| 0.958|  2.55|          60.1759|\n",
      "|   NIO|            NIO Inc.|   0.1|  4.04|           2.5381|\n",
      "|  TSLA|         Tesla, Inc.|  7.83|214.11|           3.7958|\n",
      "|  HOLO|MicroCloud Hologr...|0.0646|0.4148|          18.4466|\n",
      "|  SOXS|Direxion Daily Se...| -1.76| 22.07|          -7.3856|\n",
      "|   SPY|SPDR S&P 500 ETF ...|  5.33|563.68|           0.9546|\n",
      "|    XP|             XP Inc.| -0.16| 18.41|          -0.8616|\n",
      "|  AAPL|          Apple Inc.| -0.79| 229.0|          -0.3438|\n",
      "|  MULN|Mullen Automotive...|-0.024| 0.215|         -10.0418|\n",
      "|  LUNR|Intuitive Machine...|  0.15|  4.97|            3.112|\n",
      "|   EWZ|iShares MSCI Braz...|  0.01| 29.87|           0.0335|\n",
      "+------+--------------------+------+------+-----------------+\n",
      "only showing top 20 rows\n",
      "\n"
     ]
    },
    {
     "name": "stderr",
     "output_type": "stream",
     "text": [
      "                                                                                \r"
     ]
    },
    {
     "name": "stdout",
     "output_type": "stream",
     "text": [
      "-------------------------------------------\n",
      "Batch: 10\n",
      "-------------------------------------------\n",
      "+------+--------------------+------+------+-----------------+\n",
      "|symbol|                name|change| price|changesPercentage|\n",
      "+------+--------------------+------+------+-----------------+\n",
      "|   WTO|       UTime Limited|-0.015|0.0756|         -16.5563|\n",
      "|  NVDA|  NVIDIA Corporation|  1.78|119.37|           1.5137|\n",
      "|  FCUV|Focus Universal Inc.|0.0787|0.2689|          41.3775|\n",
      "|  BNRG|Brenmiller Energy...| 0.877|  1.55|          130.312|\n",
      "|  INTC|   Intel Corporation|  1.91| 22.04|           9.4883|\n",
      "|  SQQQ|ProShares UltraPr...| -0.27|   8.2|          -3.1877|\n",
      "|    NU|    Nu Holdings Ltd.|  0.74| 14.97|           5.2003|\n",
      "|  MAXN|Maxeon Solar Tech...|0.0038|0.1081|           3.6433|\n",
      "|  SOXL|Direxion Daily Se...|   2.6| 38.79|           7.1843|\n",
      "|  ATPC|Agape ATP Corpora...| 0.958|  2.55|          60.1759|\n",
      "|   NIO|            NIO Inc.|   0.1|  4.04|           2.5381|\n",
      "|  TSLA|         Tesla, Inc.|  7.83|214.11|           3.7958|\n",
      "|  HOLO|MicroCloud Hologr...|0.0646|0.4148|          18.4466|\n",
      "|  SOXS|Direxion Daily Se...| -1.76| 22.07|          -7.3856|\n",
      "|   SPY|SPDR S&P 500 ETF ...|  5.33|563.68|           0.9546|\n",
      "|    XP|             XP Inc.| -0.16| 18.41|          -0.8616|\n",
      "|  AAPL|          Apple Inc.| -0.79| 229.0|          -0.3438|\n",
      "|  MULN|Mullen Automotive...|-0.024| 0.215|         -10.0418|\n",
      "|  LUNR|Intuitive Machine...|  0.15|  4.97|            3.112|\n",
      "|   EWZ|iShares MSCI Braz...|  0.01| 29.87|           0.0335|\n",
      "+------+--------------------+------+------+-----------------+\n",
      "only showing top 20 rows\n",
      "\n"
     ]
    },
    {
     "name": "stderr",
     "output_type": "stream",
     "text": [
      "ERROR:root:KeyboardInterrupt while sending command.\n",
      "Traceback (most recent call last):\n",
      "  File \"/opt/homebrew/lib/python3.11/site-packages/py4j/java_gateway.py\", line 1038, in send_command\n",
      "    response = connection.send_command(command)\n",
      "               ^^^^^^^^^^^^^^^^^^^^^^^^^^^^^^^^\n",
      "  File \"/opt/homebrew/lib/python3.11/site-packages/py4j/clientserver.py\", line 511, in send_command\n",
      "    answer = smart_decode(self.stream.readline()[:-1])\n",
      "                          ^^^^^^^^^^^^^^^^^^^^^^\n",
      "  File \"/opt/homebrew/Cellar/python@3.11/3.11.9_1/Frameworks/Python.framework/Versions/3.11/lib/python3.11/socket.py\", line 706, in readinto\n",
      "    return self._sock.recv_into(b)\n",
      "           ^^^^^^^^^^^^^^^^^^^^^^^\n",
      "KeyboardInterrupt\n"
     ]
    },
    {
     "ename": "KeyboardInterrupt",
     "evalue": "",
     "output_type": "error",
     "traceback": [
      "\u001b[0;31m---------------------------------------------------------------------------\u001b[0m",
      "\u001b[0;31mKeyboardInterrupt\u001b[0m                         Traceback (most recent call last)",
      "Cell \u001b[0;32mIn[16], line 8\u001b[0m\n\u001b[1;32m      1\u001b[0m \u001b[38;5;66;03m# Write the output to a console for debugging\u001b[39;00m\n\u001b[1;32m      2\u001b[0m query \u001b[38;5;241m=\u001b[39m df_flat \\\n\u001b[1;32m      3\u001b[0m     \u001b[38;5;241m.\u001b[39mwriteStream \\\n\u001b[1;32m      4\u001b[0m     \u001b[38;5;241m.\u001b[39moutputMode(\u001b[38;5;124m\"\u001b[39m\u001b[38;5;124mappend\u001b[39m\u001b[38;5;124m\"\u001b[39m) \\\n\u001b[1;32m      5\u001b[0m     \u001b[38;5;241m.\u001b[39mformat(\u001b[38;5;124m\"\u001b[39m\u001b[38;5;124mconsole\u001b[39m\u001b[38;5;124m\"\u001b[39m) \\\n\u001b[1;32m      6\u001b[0m     \u001b[38;5;241m.\u001b[39mstart()\n\u001b[0;32m----> 8\u001b[0m \u001b[43mquery\u001b[49m\u001b[38;5;241;43m.\u001b[39;49m\u001b[43mawaitTermination\u001b[49m\u001b[43m(\u001b[49m\u001b[43m)\u001b[49m\n",
      "File \u001b[0;32m/opt/homebrew/lib/python3.11/site-packages/pyspark/sql/streaming/query.py:221\u001b[0m, in \u001b[0;36mStreamingQuery.awaitTermination\u001b[0;34m(self, timeout)\u001b[0m\n\u001b[1;32m    219\u001b[0m     \u001b[38;5;28;01mreturn\u001b[39;00m \u001b[38;5;28mself\u001b[39m\u001b[38;5;241m.\u001b[39m_jsq\u001b[38;5;241m.\u001b[39mawaitTermination(\u001b[38;5;28mint\u001b[39m(timeout \u001b[38;5;241m*\u001b[39m \u001b[38;5;241m1000\u001b[39m))\n\u001b[1;32m    220\u001b[0m \u001b[38;5;28;01melse\u001b[39;00m:\n\u001b[0;32m--> 221\u001b[0m     \u001b[38;5;28;01mreturn\u001b[39;00m \u001b[38;5;28;43mself\u001b[39;49m\u001b[38;5;241;43m.\u001b[39;49m\u001b[43m_jsq\u001b[49m\u001b[38;5;241;43m.\u001b[39;49m\u001b[43mawaitTermination\u001b[49m\u001b[43m(\u001b[49m\u001b[43m)\u001b[49m\n",
      "File \u001b[0;32m/opt/homebrew/lib/python3.11/site-packages/py4j/java_gateway.py:1321\u001b[0m, in \u001b[0;36mJavaMember.__call__\u001b[0;34m(self, *args)\u001b[0m\n\u001b[1;32m   1314\u001b[0m args_command, temp_args \u001b[38;5;241m=\u001b[39m \u001b[38;5;28mself\u001b[39m\u001b[38;5;241m.\u001b[39m_build_args(\u001b[38;5;241m*\u001b[39margs)\n\u001b[1;32m   1316\u001b[0m command \u001b[38;5;241m=\u001b[39m proto\u001b[38;5;241m.\u001b[39mCALL_COMMAND_NAME \u001b[38;5;241m+\u001b[39m\\\n\u001b[1;32m   1317\u001b[0m     \u001b[38;5;28mself\u001b[39m\u001b[38;5;241m.\u001b[39mcommand_header \u001b[38;5;241m+\u001b[39m\\\n\u001b[1;32m   1318\u001b[0m     args_command \u001b[38;5;241m+\u001b[39m\\\n\u001b[1;32m   1319\u001b[0m     proto\u001b[38;5;241m.\u001b[39mEND_COMMAND_PART\n\u001b[0;32m-> 1321\u001b[0m answer \u001b[38;5;241m=\u001b[39m \u001b[38;5;28;43mself\u001b[39;49m\u001b[38;5;241;43m.\u001b[39;49m\u001b[43mgateway_client\u001b[49m\u001b[38;5;241;43m.\u001b[39;49m\u001b[43msend_command\u001b[49m\u001b[43m(\u001b[49m\u001b[43mcommand\u001b[49m\u001b[43m)\u001b[49m\n\u001b[1;32m   1322\u001b[0m return_value \u001b[38;5;241m=\u001b[39m get_return_value(\n\u001b[1;32m   1323\u001b[0m     answer, \u001b[38;5;28mself\u001b[39m\u001b[38;5;241m.\u001b[39mgateway_client, \u001b[38;5;28mself\u001b[39m\u001b[38;5;241m.\u001b[39mtarget_id, \u001b[38;5;28mself\u001b[39m\u001b[38;5;241m.\u001b[39mname)\n\u001b[1;32m   1325\u001b[0m \u001b[38;5;28;01mfor\u001b[39;00m temp_arg \u001b[38;5;129;01min\u001b[39;00m temp_args:\n",
      "File \u001b[0;32m/opt/homebrew/lib/python3.11/site-packages/py4j/java_gateway.py:1038\u001b[0m, in \u001b[0;36mGatewayClient.send_command\u001b[0;34m(self, command, retry, binary)\u001b[0m\n\u001b[1;32m   1036\u001b[0m connection \u001b[38;5;241m=\u001b[39m \u001b[38;5;28mself\u001b[39m\u001b[38;5;241m.\u001b[39m_get_connection()\n\u001b[1;32m   1037\u001b[0m \u001b[38;5;28;01mtry\u001b[39;00m:\n\u001b[0;32m-> 1038\u001b[0m     response \u001b[38;5;241m=\u001b[39m \u001b[43mconnection\u001b[49m\u001b[38;5;241;43m.\u001b[39;49m\u001b[43msend_command\u001b[49m\u001b[43m(\u001b[49m\u001b[43mcommand\u001b[49m\u001b[43m)\u001b[49m\n\u001b[1;32m   1039\u001b[0m     \u001b[38;5;28;01mif\u001b[39;00m binary:\n\u001b[1;32m   1040\u001b[0m         \u001b[38;5;28;01mreturn\u001b[39;00m response, \u001b[38;5;28mself\u001b[39m\u001b[38;5;241m.\u001b[39m_create_connection_guard(connection)\n",
      "File \u001b[0;32m/opt/homebrew/lib/python3.11/site-packages/py4j/clientserver.py:511\u001b[0m, in \u001b[0;36mClientServerConnection.send_command\u001b[0;34m(self, command)\u001b[0m\n\u001b[1;32m    509\u001b[0m \u001b[38;5;28;01mtry\u001b[39;00m:\n\u001b[1;32m    510\u001b[0m     \u001b[38;5;28;01mwhile\u001b[39;00m \u001b[38;5;28;01mTrue\u001b[39;00m:\n\u001b[0;32m--> 511\u001b[0m         answer \u001b[38;5;241m=\u001b[39m smart_decode(\u001b[38;5;28mself\u001b[39m\u001b[38;5;241m.\u001b[39mstream\u001b[38;5;241m.\u001b[39mreadline()[:\u001b[38;5;241m-\u001b[39m\u001b[38;5;241m1\u001b[39m])\n\u001b[1;32m    512\u001b[0m         logger\u001b[38;5;241m.\u001b[39mdebug(\u001b[38;5;124m\"\u001b[39m\u001b[38;5;124mAnswer received: \u001b[39m\u001b[38;5;132;01m{0}\u001b[39;00m\u001b[38;5;124m\"\u001b[39m\u001b[38;5;241m.\u001b[39mformat(answer))\n\u001b[1;32m    513\u001b[0m         \u001b[38;5;66;03m# Happens when a the other end is dead. There might be an empty\u001b[39;00m\n\u001b[1;32m    514\u001b[0m         \u001b[38;5;66;03m# answer before the socket raises an error.\u001b[39;00m\n",
      "File \u001b[0;32m/opt/homebrew/Cellar/python@3.11/3.11.9_1/Frameworks/Python.framework/Versions/3.11/lib/python3.11/socket.py:706\u001b[0m, in \u001b[0;36mSocketIO.readinto\u001b[0;34m(self, b)\u001b[0m\n\u001b[1;32m    704\u001b[0m \u001b[38;5;28;01mwhile\u001b[39;00m \u001b[38;5;28;01mTrue\u001b[39;00m:\n\u001b[1;32m    705\u001b[0m     \u001b[38;5;28;01mtry\u001b[39;00m:\n\u001b[0;32m--> 706\u001b[0m         \u001b[38;5;28;01mreturn\u001b[39;00m \u001b[38;5;28;43mself\u001b[39;49m\u001b[38;5;241;43m.\u001b[39;49m\u001b[43m_sock\u001b[49m\u001b[38;5;241;43m.\u001b[39;49m\u001b[43mrecv_into\u001b[49m\u001b[43m(\u001b[49m\u001b[43mb\u001b[49m\u001b[43m)\u001b[49m\n\u001b[1;32m    707\u001b[0m     \u001b[38;5;28;01mexcept\u001b[39;00m timeout:\n\u001b[1;32m    708\u001b[0m         \u001b[38;5;28mself\u001b[39m\u001b[38;5;241m.\u001b[39m_timeout_occurred \u001b[38;5;241m=\u001b[39m \u001b[38;5;28;01mTrue\u001b[39;00m\n",
      "\u001b[0;31mKeyboardInterrupt\u001b[0m: "
     ]
    },
    {
     "name": "stderr",
     "output_type": "stream",
     "text": [
      "                                                                                \r"
     ]
    },
    {
     "name": "stdout",
     "output_type": "stream",
     "text": [
      "-------------------------------------------\n",
      "Batch: 11\n",
      "-------------------------------------------\n",
      "+------+--------------------+------+------+-----------------+\n",
      "|symbol|                name|change| price|changesPercentage|\n",
      "+------+--------------------+------+------+-----------------+\n",
      "|   WTO|       UTime Limited|-0.015|0.0756|         -16.5563|\n",
      "|  NVDA|  NVIDIA Corporation|  1.78|119.37|           1.5137|\n",
      "|  FCUV|Focus Universal Inc.|0.0787|0.2689|          41.3775|\n",
      "|  BNRG|Brenmiller Energy...| 0.877|  1.55|          130.312|\n",
      "|  INTC|   Intel Corporation|  1.91| 22.04|           9.4883|\n",
      "|  SQQQ|ProShares UltraPr...| -0.27|   8.2|          -3.1877|\n",
      "|    NU|    Nu Holdings Ltd.|  0.74| 14.97|           5.2003|\n",
      "|  MAXN|Maxeon Solar Tech...|0.0038|0.1081|           3.6433|\n",
      "|  SOXL|Direxion Daily Se...|   2.6| 38.79|           7.1843|\n",
      "|  ATPC|Agape ATP Corpora...| 0.958|  2.55|          60.1759|\n",
      "|   NIO|            NIO Inc.|   0.1|  4.04|           2.5381|\n",
      "|  TSLA|         Tesla, Inc.|  7.83|214.11|           3.7958|\n",
      "|  HOLO|MicroCloud Hologr...|0.0646|0.4148|          18.4466|\n",
      "|  SOXS|Direxion Daily Se...| -1.76| 22.07|          -7.3856|\n",
      "|   SPY|SPDR S&P 500 ETF ...|  5.33|563.68|           0.9546|\n",
      "|    XP|             XP Inc.| -0.16| 18.41|          -0.8616|\n",
      "|  AAPL|          Apple Inc.| -0.79| 229.0|          -0.3438|\n",
      "|  MULN|Mullen Automotive...|-0.024| 0.215|         -10.0418|\n",
      "|  LUNR|Intuitive Machine...|  0.15|  4.97|            3.112|\n",
      "|   EWZ|iShares MSCI Braz...|  0.01| 29.87|           0.0335|\n",
      "+------+--------------------+------+------+-----------------+\n",
      "only showing top 20 rows\n",
      "\n"
     ]
    }
   ],
   "source": [
    "# Write the output to a console for debugging\n",
    "query = df_flat \\\n",
    "    .writeStream \\\n",
    "    .outputMode(\"append\") \\\n",
    "    .format(\"console\") \\\n",
    "    .start()\n",
    "\n",
    "query.awaitTermination()"
   ]
  },
  {
   "cell_type": "code",
   "execution_count": null,
   "id": "ccd31369-25a5-484e-9c8b-5db95dae237a",
   "metadata": {},
   "outputs": [],
   "source": [
    "consumer.close()"
   ]
  }
 ],
 "metadata": {
  "kernelspec": {
   "display_name": "Python 3 (ipykernel)",
   "language": "python",
   "name": "python3"
  },
  "language_info": {
   "codemirror_mode": {
    "name": "ipython",
    "version": 3
   },
   "file_extension": ".py",
   "mimetype": "text/x-python",
   "name": "python",
   "nbconvert_exporter": "python",
   "pygments_lexer": "ipython3",
   "version": "3.11.9"
  }
 },
 "nbformat": 4,
 "nbformat_minor": 5
}
